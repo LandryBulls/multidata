{
 "cells": [
  {
   "cell_type": "code",
   "execution_count": 92,
   "id": "initial_id",
   "metadata": {
    "collapsed": true,
    "ExecuteTime": {
     "end_time": "2023-09-15T19:42:46.646927415Z",
     "start_time": "2023-09-15T19:42:46.604950491Z"
    }
   },
   "outputs": [],
   "source": [
    "import os\n",
    "from glob import glob\n",
    "from pathlib import Path\n",
    "import shutil\n",
    "import sys\n",
    "import time\n",
    "from io import BytesIO\n",
    "from tqdm import tqdm"
   ]
  },
  {
   "cell_type": "code",
   "execution_count": 73,
   "outputs": [],
   "source": [
    "today = time.strftime('%Y-%m-%d')"
   ],
   "metadata": {
    "collapsed": false,
    "ExecuteTime": {
     "end_time": "2023-09-15T19:36:52.870941961Z",
     "start_time": "2023-09-15T19:36:52.868884704Z"
    }
   },
   "id": "ebb5135bf423c5ef"
  },
  {
   "cell_type": "code",
   "execution_count": 74,
   "outputs": [],
   "source": [
    "def transfer_file(source, dest_path):\n",
    "    fsize = int(os.path.getsize(source))\n",
    "    dest = os.path.join(dest_path, os.path.basename(source))\n",
    "    with open(source, 'rb') as f:\n",
    "        with open(dest, 'ab') as n:\n",
    "            with tqdm(ncols=60, total=fsize, bar_format='{l_bar}{bar} | Remaining: {remaining}') as pbar:\n",
    "                buffer = bytearray()\n",
    "                while True:\n",
    "                    buf = f.read(8192)\n",
    "                    n.write(buf)\n",
    "                    if len(buf) == 0:\n",
    "                        break\n",
    "                    buffer += buf\n",
    "                    pbar.update(len(buf))"
   ],
   "metadata": {
    "collapsed": false,
    "ExecuteTime": {
     "end_time": "2023-09-15T19:36:53.246529091Z",
     "start_time": "2023-09-15T19:36:53.239570516Z"
    }
   },
   "id": "434a9dec46d90767"
  },
  {
   "cell_type": "code",
   "execution_count": 75,
   "outputs": [],
   "source": [
    "def get_all_files(card_path):\n",
    "    all_files = []\n",
    "    for root, dirs, files in os.walk(card_path):\n",
    "        for file in files:\n",
    "            if '.Trashes' not in root:\n",
    "                all_files.append(os.path.join(root, file))\n",
    "    return all_files"
   ],
   "metadata": {
    "collapsed": false,
    "ExecuteTime": {
     "end_time": "2023-09-15T19:36:54.194029694Z",
     "start_time": "2023-09-15T19:36:54.188676093Z"
    }
   },
   "id": "b71755bc897ab4dc"
  },
  {
   "cell_type": "code",
   "execution_count": 76,
   "outputs": [
    {
     "data": {
      "text/plain": "['/media/landry/3461-3834',\n '/media/landry/3239-3631',\n '/media/landry/6261-6434',\n '/media/landry/6137-3234']"
     },
     "execution_count": 76,
     "metadata": {},
     "output_type": "execute_result"
    }
   ],
   "source": [
    "cards = glob('/media/landry/*')\n",
    "cards"
   ],
   "metadata": {
    "collapsed": false,
    "ExecuteTime": {
     "end_time": "2023-09-15T19:36:54.685479125Z",
     "start_time": "2023-09-15T19:36:54.680713497Z"
    }
   },
   "id": "1c11f817e5799eec"
  },
  {
   "cell_type": "code",
   "execution_count": 77,
   "outputs": [
    {
     "data": {
      "text/plain": "['/media/landry/3461-3834/mdb_max.db',\n '/media/landry/3461-3834/Get_started_with_GoPro.url',\n '/media/landry/3461-3834/mdb_max.bk',\n '/media/landry/3461-3834/mdb_max.log',\n '/media/landry/3461-3834/DCIM/leinfo.sav',\n '/media/landry/3461-3834/DCIM/100GOPRO/GS010008.360',\n '/media/landry/3461-3834/DCIM/100GOPRO/GS020008.360',\n '/media/landry/3461-3834/DCIM/100GOPRO/GS030008.360',\n '/media/landry/3461-3834/MISC/version.txt',\n '/media/landry/3461-3834/MISC/sd_info.txt',\n '/media/landry/3461-3834/MISC/card']"
     },
     "execution_count": 77,
     "metadata": {},
     "output_type": "execute_result"
    }
   ],
   "source": [
    "get_all_files(cards[0])"
   ],
   "metadata": {
    "collapsed": false,
    "ExecuteTime": {
     "end_time": "2023-09-15T19:36:56.057181617Z",
     "start_time": "2023-09-15T19:36:56.020708568Z"
    }
   },
   "id": "a48bea3d464df3b5"
  },
  {
   "cell_type": "code",
   "execution_count": 78,
   "outputs": [],
   "source": [
    "# get paths of SD cards connected\n",
    "if sys.platform == 'darwin':\n",
    "    connected_sd_cards = [Path(card) for card in glob('/Volumes/Untitled*/')]\n",
    "elif sys.platform == 'win32':\n",
    "    connected_sd_cards = [Path(card) for card in glob('E:/')]\n",
    "elif sys.platform == 'linux':\n",
    "    user = os.environ['USER']\n",
    "    connected_sd_cards = [Path(card) for card in glob(f'/media/{user}/*')]\n",
    "else:\n",
    "    # throw error if platform is unknown\n",
    "    raise OSError('Unknown platform')"
   ],
   "metadata": {
    "collapsed": false,
    "ExecuteTime": {
     "end_time": "2023-09-15T19:36:57.632200065Z",
     "start_time": "2023-09-15T19:36:57.625435060Z"
    }
   },
   "id": "ea08236c795a7e45"
  },
  {
   "cell_type": "code",
   "execution_count": 79,
   "outputs": [],
   "source": [
    "card_id = {}\n",
    "# card label and files to download\n",
    "data_incoming = {''}\n",
    "cam_id = 0\n",
    "for card in connected_sd_cards:\n",
    "    if any(['.360' in file for file in get_all_files(card)]):\n",
    "        files = [file for file in get_all_files(card) if '.360' in file]\n",
    "        card_id['360cam'] = {'card': str(card), 'files': files}\n",
    "    elif any(['.mp4' in file.lower() for file in get_all_files(card)]):\n",
    "        cam_id+=1\n",
    "        files = [file for file in get_all_files(card) if '.mp4' in file.lower()]\n",
    "        card_id[f'cam{cam_id}'] = {'card': str(card), 'files': files}\n",
    "    elif any(['TRACK' in file for file in get_all_files(card)]):\n",
    "        # TO DO: make sure audio files recorded on same date as video files\n",
    "        files = [file for file in get_all_files(str(card)) if 'TRACK' in file]\n",
    "        card_id['microphones'] = {'card': card, 'files': files}\n",
    "    else:\n",
    "        print(f'Unknown card: {card} contains the following files:')\n",
    "        print(get_all_files(card))"
   ],
   "metadata": {
    "collapsed": false,
    "ExecuteTime": {
     "end_time": "2023-09-15T19:36:59.516029701Z",
     "start_time": "2023-09-15T19:36:59.401554957Z"
    }
   },
   "id": "a6db93e30159d473"
  },
  {
   "cell_type": "code",
   "execution_count": 80,
   "outputs": [
    {
     "data": {
      "text/plain": "{'360cam': {'card': '/media/landry/3461-3834',\n  'files': ['/media/landry/3461-3834/DCIM/100GOPRO/GS010008.360',\n   '/media/landry/3461-3834/DCIM/100GOPRO/GS020008.360',\n   '/media/landry/3461-3834/DCIM/100GOPRO/GS030008.360']},\n 'microphones': {'card': PosixPath('/media/landry/3239-3631'),\n  'files': ['/media/landry/3239-3631/test2/TRACK01.WAV',\n   '/media/landry/3239-3631/test2/TRACK02.WAV',\n   '/media/landry/3239-3631/test2/TRACK03.WAV',\n   '/media/landry/3239-3631/test2/TRACK04.WAV']},\n 'cam1': {'card': '/media/landry/6261-6434',\n  'files': ['/media/landry/6261-6434/DCIM/100GOPRO/GH010020.mp4',\n   '/media/landry/6261-6434/DCIM/100GOPRO/GH020020.mp4']},\n 'cam2': {'card': '/media/landry/6137-3234',\n  'files': ['/media/landry/6137-3234/DCIM/100GOPRO/GH010020.MP4',\n   '/media/landry/6137-3234/DCIM/100GOPRO/GH020020.MP4']}}"
     },
     "execution_count": 80,
     "metadata": {},
     "output_type": "execute_result"
    }
   ],
   "source": [
    "card_id"
   ],
   "metadata": {
    "collapsed": false,
    "ExecuteTime": {
     "end_time": "2023-09-15T19:37:00.166154510Z",
     "start_time": "2023-09-15T19:37:00.157808277Z"
    }
   },
   "id": "8bfadd65863aaaac"
  },
  {
   "cell_type": "code",
   "execution_count": 81,
   "outputs": [],
   "source": [
    "assert len(card_id) == 4, 'Not all cards are connected'"
   ],
   "metadata": {
    "collapsed": false,
    "ExecuteTime": {
     "end_time": "2023-09-15T19:37:02.669494429Z",
     "start_time": "2023-09-15T19:37:02.657044832Z"
    }
   },
   "id": "5971a482f0a28f3c"
  },
  {
   "cell_type": "code",
   "execution_count": 82,
   "outputs": [],
   "source": [
    "# func for getting the creation date of a file\n",
    "def get_creation_date(path_to_file):\n",
    "    return time.strftime('%Y-%m-%d', time.gmtime(os.path.getctime(path_to_file)))"
   ],
   "metadata": {
    "collapsed": false,
    "ExecuteTime": {
     "end_time": "2023-09-15T19:37:06.302154439Z",
     "start_time": "2023-09-15T19:37:06.292221637Z"
    }
   },
   "id": "e4ad4ab6996620b6"
  },
  {
   "cell_type": "code",
   "execution_count": 83,
   "outputs": [
    {
     "name": "stdout",
     "output_type": "stream",
     "text": [
      "Files on 360cam were created on 2023-09-15\n",
      "Files on microphones were created on 2023-09-15\n",
      "Files on cam1 were created on 2023-09-15\n",
      "Files on cam2 were created on 2016-03-02\n"
     ]
    }
   ],
   "source": [
    "# make sure all files have the same creation date and print the files for each unique date detected\n",
    "for card in card_id:\n",
    "    dates = []\n",
    "    for file in card_id[card]['files']:\n",
    "        dates.append(get_creation_date(file))\n",
    "    dates = list(set(dates))\n",
    "    assert len(dates) == 1, f'Files on {card} were not all created on the same date'\n",
    "    print(f'Files on {card} were created on {dates[0]}')"
   ],
   "metadata": {
    "collapsed": false,
    "ExecuteTime": {
     "end_time": "2023-09-15T19:37:11.446556730Z",
     "start_time": "2023-09-15T19:37:11.438539395Z"
    }
   },
   "id": "94217a150039f31f"
  },
  {
   "cell_type": "code",
   "execution_count": 89,
   "outputs": [],
   "source": [
    "# ask user if ok to transfer the files\n",
    "dialog = 'The following files will be transferred:\\n\\n'\n",
    "for card in card_id:\n",
    "    dialog += f'{card} has {len(card_id[card][\"files\"])} files:\\n'\n",
    "    for file in card_id[card]['files']:\n",
    "        dialog += f'\\t{file}\\n'\n",
    "    dialog += '\\n'\n",
    "dialog += 'Is this ok? (y/n): '\n",
    "ok = input(dialog)\n",
    "if ok.lower() == 'y':\n",
    "    transfer_approved = True\n",
    "    pass\n",
    "else:\n",
    "    transfer_approved = False\n",
    "    raise OSError('User aborted transfer')"
   ],
   "metadata": {
    "collapsed": false,
    "ExecuteTime": {
     "end_time": "2023-09-15T19:42:22.686165130Z",
     "start_time": "2023-09-15T19:42:19.928699355Z"
    }
   },
   "id": "3c090e4c81f9364b"
  },
  {
   "cell_type": "code",
   "execution_count": 90,
   "outputs": [],
   "source": [
    "def get_exp_of_day():\n",
    "    # get all experiments of the day\n",
    "    today = time.strftime('%Y-%m-%d')\n",
    "    data_path = Path('/safestore/users/landry/SCRAP/data')\n",
    "    exp_of_day = [exp for exp in glob(f'{data_path}/{today}*') if os.path.isdir(exp)]\n",
    "    # get the number of the last experiment of the day\n",
    "    if len(exp_of_day) == 0:\n",
    "        exp_num = 0\n",
    "    else:\n",
    "        exp_num = max([int(exp.split('_')[-1]) for exp in exp_of_day])\n",
    "    return exp_num"
   ],
   "metadata": {
    "collapsed": false,
    "ExecuteTime": {
     "end_time": "2023-09-15T19:42:29.988854899Z",
     "start_time": "2023-09-15T19:42:29.860274766Z"
    }
   },
   "id": "c6fd61c914bf5841"
  },
  {
   "cell_type": "code",
   "execution_count": null,
   "outputs": [
    {
     "name": "stdout",
     "output_type": "stream",
     "text": [
      "Transferring file:  /media/landry/3461-3834/DCIM/100GOPRO/GS010008.360\n"
     ]
    },
    {
     "name": "stderr",
     "output_type": "stream",
     "text": [
      "100%|████████████████████████████████████ | Remaining: 00:00\n"
     ]
    },
    {
     "name": "stdout",
     "output_type": "stream",
     "text": [
      "Transferring file:  /media/landry/3461-3834/DCIM/100GOPRO/GS020008.360\n"
     ]
    },
    {
     "name": "stderr",
     "output_type": "stream",
     "text": [
      "100%|████████████████████████████████████ | Remaining: 00:00\n"
     ]
    },
    {
     "name": "stdout",
     "output_type": "stream",
     "text": [
      "Transferring file:  /media/landry/3461-3834/DCIM/100GOPRO/GS030008.360\n"
     ]
    },
    {
     "name": "stderr",
     "output_type": "stream",
     "text": [
      "100%|████████████████████████████████████ | Remaining: 00:00\n"
     ]
    },
    {
     "name": "stdout",
     "output_type": "stream",
     "text": [
      "Transferring file:  /media/landry/3239-3631/test2/TRACK01.WAV\n"
     ]
    },
    {
     "name": "stderr",
     "output_type": "stream",
     "text": [
      "100%|████████████████████████████████████ | Remaining: 00:00\n"
     ]
    },
    {
     "name": "stdout",
     "output_type": "stream",
     "text": [
      "Transferring file:  /media/landry/3239-3631/test2/TRACK02.WAV\n"
     ]
    },
    {
     "name": "stderr",
     "output_type": "stream",
     "text": [
      "|                                             | Remaining: ?\n"
     ]
    },
    {
     "name": "stdout",
     "output_type": "stream",
     "text": [
      "Transferring file:  /media/landry/3239-3631/test2/TRACK03.WAV\n"
     ]
    },
    {
     "name": "stderr",
     "output_type": "stream",
     "text": [
      "|                                             | Remaining: ?\n"
     ]
    },
    {
     "name": "stdout",
     "output_type": "stream",
     "text": [
      "Transferring file:  /media/landry/3239-3631/test2/TRACK04.WAV\n"
     ]
    },
    {
     "name": "stderr",
     "output_type": "stream",
     "text": [
      "|                                             | Remaining: ?\n"
     ]
    },
    {
     "name": "stdout",
     "output_type": "stream",
     "text": [
      "Transferring file:  /media/landry/6261-6434/DCIM/100GOPRO/GH010020.mp4\n"
     ]
    },
    {
     "name": "stderr",
     "output_type": "stream",
     "text": [
      "100%|████████████████████████████████████ | Remaining: 00:00\n"
     ]
    },
    {
     "name": "stdout",
     "output_type": "stream",
     "text": [
      "Transferring file:  /media/landry/6261-6434/DCIM/100GOPRO/GH020020.mp4\n"
     ]
    },
    {
     "name": "stderr",
     "output_type": "stream",
     "text": [
      "100%|████████████████████████████████████ | Remaining: 00:00\n"
     ]
    },
    {
     "name": "stdout",
     "output_type": "stream",
     "text": [
      "Transferring file:  /media/landry/6137-3234/DCIM/100GOPRO/GH010020.MP4\n"
     ]
    },
    {
     "name": "stderr",
     "output_type": "stream",
     "text": [
      " 25%|████████▊                            | Remaining: 01:11"
     ]
    }
   ],
   "source": [
    "data_path = Path('/safestore/users/landry/SCRAP/data') / f'{today}_{get_exp_of_day()+1:03d}'\n",
    "os.mkdir(data_path)\n",
    "total_num_files = sum([len(card_id[card]['files']) for card in card_id])\n",
    "filenum = 0\n",
    "for card in card_id:\n",
    "    if card=='microphones':\n",
    "        card = 'audio'\n",
    "    dest_path = data_path / card\n",
    "    os.mkdir(dest_path)\n",
    "    for file in card_id[card]['files']:\n",
    "        filenum += 1\n",
    "        print('Transferring file {filenum} of {total_num_files} files\\n')\n",
    "        print('Destination: {dest_path}\\n)\n",
    "        transfer_file(file, dest_path)"
   ],
   "metadata": {
    "collapsed": false,
    "is_executing": true,
    "ExecuteTime": {
     "start_time": "2023-09-15T19:42:51.884644441Z"
    }
   },
   "id": "8ce22a17f0cf7508"
  },
  {
   "cell_type": "code",
   "execution_count": null,
   "outputs": [],
   "source": [],
   "metadata": {
    "collapsed": false
   },
   "id": "e2882f18860dd79e"
  }
 ],
 "metadata": {
  "kernelspec": {
   "display_name": "Python 3",
   "language": "python",
   "name": "python3"
  },
  "language_info": {
   "codemirror_mode": {
    "name": "ipython",
    "version": 2
   },
   "file_extension": ".py",
   "mimetype": "text/x-python",
   "name": "python",
   "nbconvert_exporter": "python",
   "pygments_lexer": "ipython2",
   "version": "2.7.6"
  }
 },
 "nbformat": 4,
 "nbformat_minor": 5
}
