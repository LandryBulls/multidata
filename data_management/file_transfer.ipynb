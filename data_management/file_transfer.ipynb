{
 "cells": [
  {
   "cell_type": "code",
   "execution_count": 1,
   "id": "initial_id",
   "metadata": {
    "collapsed": true,
    "ExecuteTime": {
     "end_time": "2023-09-18T14:30:08.642642171Z",
     "start_time": "2023-09-18T14:30:08.641181606Z"
    }
   },
   "outputs": [],
   "source": [
    "import os\n",
    "from glob import glob\n",
    "from pathlib import Path\n",
    "import shutil\n",
    "import sys\n",
    "import time\n",
    "from io import BytesIO\n",
    "from tqdm import tqdm"
   ]
  },
  {
   "cell_type": "code",
   "execution_count": 2,
   "outputs": [],
   "source": [
    "today = time.strftime('%Y-%m-%d')"
   ],
   "metadata": {
    "collapsed": false,
    "ExecuteTime": {
     "end_time": "2023-09-18T14:30:09.436499813Z",
     "start_time": "2023-09-18T14:30:09.434448619Z"
    }
   },
   "id": "ebb5135bf423c5ef"
  },
  {
   "cell_type": "code",
   "execution_count": 3,
   "outputs": [],
   "source": [
    "def transfer_file(source, dest_path):\n",
    "    fsize = int(os.path.getsize(source))\n",
    "    dest = os.path.join(dest_path, os.path.basename(source))\n",
    "    with open(source, 'rb') as f:\n",
    "        with open(dest, 'ab') as n:\n",
    "            with tqdm(ncols=60, total=fsize, bar_format='{l_bar}{bar} | Remaining: {remaining}') as pbar:\n",
    "                buffer = bytearray()\n",
    "                while True:\n",
    "                    buf = f.read(8192)\n",
    "                    n.write(buf)\n",
    "                    if len(buf) == 0:\n",
    "                        break\n",
    "                    buffer += buf\n",
    "                    pbar.update(len(buf))"
   ],
   "metadata": {
    "collapsed": false,
    "ExecuteTime": {
     "end_time": "2023-09-18T14:30:09.966852291Z",
     "start_time": "2023-09-18T14:30:09.956147724Z"
    }
   },
   "id": "434a9dec46d90767"
  },
  {
   "cell_type": "code",
   "execution_count": 4,
   "outputs": [],
   "source": [
    "def get_all_files(card_path):\n",
    "    all_files = []\n",
    "    for root, dirs, files in os.walk(card_path):\n",
    "        for file in files:\n",
    "            if '.Trash' not in root:\n",
    "                all_files.append(os.path.join(root, file))\n",
    "    return all_files"
   ],
   "metadata": {
    "collapsed": false,
    "ExecuteTime": {
     "end_time": "2023-09-18T14:30:10.679022850Z",
     "start_time": "2023-09-18T14:30:10.667874103Z"
    }
   },
   "id": "b71755bc897ab4dc"
  },
  {
   "cell_type": "code",
   "execution_count": 5,
   "outputs": [
    {
     "data": {
      "text/plain": "['/media/landry/3461-3834',\n '/media/landry/3239-3631',\n '/media/landry/6237-3234',\n '/media/landry/6137-3234']"
     },
     "execution_count": 5,
     "metadata": {},
     "output_type": "execute_result"
    }
   ],
   "source": [
    "cards = glob('/media/landry/*')\n",
    "cards"
   ],
   "metadata": {
    "collapsed": false,
    "ExecuteTime": {
     "end_time": "2023-09-18T14:30:11.138222088Z",
     "start_time": "2023-09-18T14:30:11.122856737Z"
    }
   },
   "id": "1c11f817e5799eec"
  },
  {
   "cell_type": "code",
   "execution_count": 6,
   "outputs": [
    {
     "data": {
      "text/plain": "['/media/landry/3461-3834/mdb_max.db',\n '/media/landry/3461-3834/Get_started_with_GoPro.url',\n '/media/landry/3461-3834/mdb_max.bk',\n '/media/landry/3461-3834/mdb_max.log',\n '/media/landry/3461-3834/DCIM/leinfo.sav',\n '/media/landry/3461-3834/DCIM/100GOPRO/GX010040.MP4',\n '/media/landry/3461-3834/DCIM/100GOPRO/GL010040.LRV',\n '/media/landry/3461-3834/DCIM/100GOPRO/GX010040.THM',\n '/media/landry/3461-3834/MISC/version.txt',\n '/media/landry/3461-3834/MISC/sd_info.txt',\n '/media/landry/3461-3834/MISC/card']"
     },
     "execution_count": 6,
     "metadata": {},
     "output_type": "execute_result"
    }
   ],
   "source": [
    "get_all_files(cards[0])"
   ],
   "metadata": {
    "collapsed": false,
    "ExecuteTime": {
     "end_time": "2023-09-18T14:30:12.916989720Z",
     "start_time": "2023-09-18T14:30:12.910368043Z"
    }
   },
   "id": "a48bea3d464df3b5"
  },
  {
   "cell_type": "code",
   "execution_count": 7,
   "outputs": [],
   "source": [
    "# get paths of SD cards connected\n",
    "if sys.platform == 'darwin':\n",
    "    connected_sd_cards = [Path(card) for card in glob('/Volumes/Untitled*/')]\n",
    "elif sys.platform == 'win32':\n",
    "    connected_sd_cards = [Path(card) for card in glob('E:/')]\n",
    "elif sys.platform == 'linux':\n",
    "    user = os.environ['USER']\n",
    "    connected_sd_cards = [Path(card) for card in glob(f'/media/{user}/*')]\n",
    "else:\n",
    "    # throw error if platform is unknown\n",
    "    raise OSError('Unknown platform')"
   ],
   "metadata": {
    "collapsed": false,
    "ExecuteTime": {
     "end_time": "2023-09-18T14:30:14.271626613Z",
     "start_time": "2023-09-18T14:30:14.262766248Z"
    }
   },
   "id": "ea08236c795a7e45"
  },
  {
   "cell_type": "code",
   "execution_count": 25,
   "outputs": [],
   "source": [
    "def delete_card(card_path):\n",
    "    os.chmod(card_path, 0o777)\n",
    "    shutil.rmtree(card_path)\n"
   ],
   "metadata": {
    "collapsed": false,
    "ExecuteTime": {
     "end_time": "2023-09-18T15:02:48.724218676Z",
     "start_time": "2023-09-18T15:02:48.201215511Z"
    }
   },
   "id": "b1c3d7481775ee91"
  },
  {
   "cell_type": "code",
   "execution_count": 18,
   "outputs": [
    {
     "name": "stdout",
     "output_type": "stream",
     "text": [
      "Unknown card: /media/landry/3461-3834 contains the following files:\n",
      "[]\n"
     ]
    }
   ],
   "source": [
    "card_id = {}\n",
    "# card label and files to download\n",
    "data_incoming = {''}\n",
    "cam_id = 0\n",
    "for card in connected_sd_cards:\n",
    "    if any(['.360' in file for file in get_all_files(card)]):\n",
    "        files = [file for file in get_all_files(card) if '.360' in file]\n",
    "        card_id['360cam'] = {'card': str(card), 'files': files}\n",
    "    elif any(['.mp4' in file.lower() for file in get_all_files(card)]):\n",
    "        cam_id+=1\n",
    "        files = [file for file in get_all_files(card) if '.mp4' in file.lower()]\n",
    "        card_id[f'cam{cam_id}'] = {'card': str(card), 'files': files}\n",
    "    elif any(['TRACK' in file for file in get_all_files(card)]):\n",
    "        # TO DO: make sure audio files recorded on same date as video files\n",
    "        files = [file for file in get_all_files(str(card)) if 'TRACK' in file]\n",
    "        card_id['microphones'] = {'card': card, 'files': files}\n",
    "    else:\n",
    "        print(f'Unknown card: {card} contains the following files:')\n",
    "        print(get_all_files(card))"
   ],
   "metadata": {
    "collapsed": false,
    "ExecuteTime": {
     "end_time": "2023-09-18T14:54:09.688394807Z",
     "start_time": "2023-09-18T14:54:09.588090952Z"
    }
   },
   "id": "a6db93e30159d473"
  },
  {
   "cell_type": "code",
   "execution_count": 19,
   "outputs": [
    {
     "data": {
      "text/plain": "{'microphones': {'card': PosixPath('/media/landry/3239-3631'),\n  'files': ['/media/landry/3239-3631/FOLDER01/230918_101004/TRACK01.WAV',\n   '/media/landry/3239-3631/FOLDER01/230918_101004/TRACK02.WAV',\n   '/media/landry/3239-3631/FOLDER01/230918_101004/TRACK03.WAV',\n   '/media/landry/3239-3631/FOLDER01/230918_101004/TRACK04.WAV']},\n '360cam': {'card': '/media/landry/6237-3234',\n  'files': ['/media/landry/6237-3234/DCIM/100GOPRO/GS010043.360']},\n 'cam1': {'card': '/media/landry/6137-3234',\n  'files': ['/media/landry/6137-3234/DCIM/100GOPRO/GX010027.MP4']}}"
     },
     "execution_count": 19,
     "metadata": {},
     "output_type": "execute_result"
    }
   ],
   "source": [
    "card_id"
   ],
   "metadata": {
    "collapsed": false,
    "ExecuteTime": {
     "end_time": "2023-09-18T14:54:09.867435035Z",
     "start_time": "2023-09-18T14:54:09.785142334Z"
    }
   },
   "id": "8bfadd65863aaaac"
  },
  {
   "cell_type": "code",
   "execution_count": 26,
   "outputs": [
    {
     "ename": "PermissionError",
     "evalue": "[Errno 13] Permission denied: '/media/landry/3239-3631'",
     "output_type": "error",
     "traceback": [
      "\u001B[0;31m---------------------------------------------------------------------------\u001B[0m",
      "\u001B[0;31mPermissionError\u001B[0m                           Traceback (most recent call last)",
      "Cell \u001B[0;32mIn[26], line 1\u001B[0m\n\u001B[0;32m----> 1\u001B[0m \u001B[43mdelete_card\u001B[49m\u001B[43m(\u001B[49m\u001B[43mcard_id\u001B[49m\u001B[43m[\u001B[49m\u001B[38;5;124;43m'\u001B[39;49m\u001B[38;5;124;43mmicrophones\u001B[39;49m\u001B[38;5;124;43m'\u001B[39;49m\u001B[43m]\u001B[49m\u001B[43m[\u001B[49m\u001B[38;5;124;43m'\u001B[39;49m\u001B[38;5;124;43mcard\u001B[39;49m\u001B[38;5;124;43m'\u001B[39;49m\u001B[43m]\u001B[49m\u001B[43m)\u001B[49m\n",
      "Cell \u001B[0;32mIn[25], line 3\u001B[0m, in \u001B[0;36mdelete_card\u001B[0;34m(card_path)\u001B[0m\n\u001B[1;32m      1\u001B[0m \u001B[38;5;28;01mdef\u001B[39;00m \u001B[38;5;21mdelete_card\u001B[39m(card_path):\n\u001B[1;32m      2\u001B[0m     os\u001B[38;5;241m.\u001B[39mchmod(card_path, \u001B[38;5;241m0o777\u001B[39m)\n\u001B[0;32m----> 3\u001B[0m     \u001B[43mshutil\u001B[49m\u001B[38;5;241;43m.\u001B[39;49m\u001B[43mrmtree\u001B[49m\u001B[43m(\u001B[49m\u001B[43mcard_path\u001B[49m\u001B[43m)\u001B[49m\n",
      "File \u001B[0;32m~/miniconda3/envs/multidata/lib/python3.8/shutil.py:722\u001B[0m, in \u001B[0;36mrmtree\u001B[0;34m(path, ignore_errors, onerror)\u001B[0m\n\u001B[1;32m    720\u001B[0m         os\u001B[38;5;241m.\u001B[39mrmdir(path)\n\u001B[1;32m    721\u001B[0m     \u001B[38;5;28;01mexcept\u001B[39;00m \u001B[38;5;167;01mOSError\u001B[39;00m:\n\u001B[0;32m--> 722\u001B[0m         \u001B[43monerror\u001B[49m\u001B[43m(\u001B[49m\u001B[43mos\u001B[49m\u001B[38;5;241;43m.\u001B[39;49m\u001B[43mrmdir\u001B[49m\u001B[43m,\u001B[49m\u001B[43m \u001B[49m\u001B[43mpath\u001B[49m\u001B[43m,\u001B[49m\u001B[43m \u001B[49m\u001B[43msys\u001B[49m\u001B[38;5;241;43m.\u001B[39;49m\u001B[43mexc_info\u001B[49m\u001B[43m(\u001B[49m\u001B[43m)\u001B[49m\u001B[43m)\u001B[49m\n\u001B[1;32m    723\u001B[0m \u001B[38;5;28;01melse\u001B[39;00m:\n\u001B[1;32m    724\u001B[0m     \u001B[38;5;28;01mtry\u001B[39;00m:\n\u001B[1;32m    725\u001B[0m         \u001B[38;5;66;03m# symlinks to directories are forbidden, see bug #1669\u001B[39;00m\n",
      "File \u001B[0;32m~/miniconda3/envs/multidata/lib/python3.8/shutil.py:720\u001B[0m, in \u001B[0;36mrmtree\u001B[0;34m(path, ignore_errors, onerror)\u001B[0m\n\u001B[1;32m    718\u001B[0m _rmtree_safe_fd(fd, path, onerror)\n\u001B[1;32m    719\u001B[0m \u001B[38;5;28;01mtry\u001B[39;00m:\n\u001B[0;32m--> 720\u001B[0m     \u001B[43mos\u001B[49m\u001B[38;5;241;43m.\u001B[39;49m\u001B[43mrmdir\u001B[49m\u001B[43m(\u001B[49m\u001B[43mpath\u001B[49m\u001B[43m)\u001B[49m\n\u001B[1;32m    721\u001B[0m \u001B[38;5;28;01mexcept\u001B[39;00m \u001B[38;5;167;01mOSError\u001B[39;00m:\n\u001B[1;32m    722\u001B[0m     onerror(os\u001B[38;5;241m.\u001B[39mrmdir, path, sys\u001B[38;5;241m.\u001B[39mexc_info())\n",
      "\u001B[0;31mPermissionError\u001B[0m: [Errno 13] Permission denied: '/media/landry/3239-3631'"
     ]
    }
   ],
   "source": [
    "delete_card(card_id['microphones']['card'])"
   ],
   "metadata": {
    "collapsed": false,
    "ExecuteTime": {
     "end_time": "2023-09-18T15:02:57.347538663Z",
     "start_time": "2023-09-18T15:02:57.289815518Z"
    }
   },
   "id": "666f38f08587611c"
  },
  {
   "cell_type": "code",
   "execution_count": 9,
   "outputs": [],
   "source": [
    "assert len(card_id) == 4, 'Not all cards are connected'"
   ],
   "metadata": {
    "collapsed": false,
    "ExecuteTime": {
     "end_time": "2023-09-18T14:30:22.085725011Z",
     "start_time": "2023-09-18T14:30:22.069585885Z"
    }
   },
   "id": "5971a482f0a28f3c"
  },
  {
   "cell_type": "code",
   "execution_count": 82,
   "outputs": [],
   "source": [
    "# func for getting the creation date of a file\n",
    "def get_creation_date(path_to_file):\n",
    "    return time.strftime('%Y-%m-%d', time.gmtime(os.path.getctime(path_to_file)))"
   ],
   "metadata": {
    "collapsed": false,
    "ExecuteTime": {
     "end_time": "2023-09-15T19:37:06.302154439Z",
     "start_time": "2023-09-15T19:37:06.292221637Z"
    }
   },
   "id": "e4ad4ab6996620b6"
  },
  {
   "cell_type": "code",
   "execution_count": 83,
   "outputs": [
    {
     "name": "stdout",
     "output_type": "stream",
     "text": [
      "Files on 360cam were created on 2023-09-15\n",
      "Files on microphones were created on 2023-09-15\n",
      "Files on cam1 were created on 2023-09-15\n",
      "Files on cam2 were created on 2016-03-02\n"
     ]
    }
   ],
   "source": [
    "# make sure all files have the same creation date and print the files for each unique date detected\n",
    "for card in card_id:\n",
    "    dates = []\n",
    "    for file in card_id[card]['files']:\n",
    "        dates.append(get_creation_date(file))\n",
    "    dates = list(set(dates))\n",
    "    assert len(dates) == 1, f'Files on {card} were not all created on the same date'\n",
    "    print(f'Files on {card} were created on {dates[0]}')"
   ],
   "metadata": {
    "collapsed": false,
    "ExecuteTime": {
     "end_time": "2023-09-15T19:37:11.446556730Z",
     "start_time": "2023-09-15T19:37:11.438539395Z"
    }
   },
   "id": "94217a150039f31f"
  },
  {
   "cell_type": "code",
   "execution_count": 16,
   "outputs": [],
   "source": [
    "def get_exp_of_day():\n",
    "    # get all experiments of the day\n",
    "    today = time.strftime('%Y-%m-%d')\n",
    "    data_path = Path('/safestore/users/landry/SCRAP/data/conversations_unconstrained')\n",
    "    exp_of_day = [exp for exp in glob(f'{data_path}/{today}*') if os.path.isdir(exp)]\n",
    "    # get the number of the last experiment of the day\n",
    "    if len(exp_of_day) == 0:\n",
    "        exp_num = 0\n",
    "    else:\n",
    "        exp_num = max([int(exp.split('_')[-1]) for exp in exp_of_day]) + 1\n",
    "    return exp_num"
   ],
   "metadata": {
    "collapsed": false,
    "ExecuteTime": {
     "end_time": "2023-09-18T14:38:57.532198429Z",
     "start_time": "2023-09-18T14:38:57.513739614Z"
    }
   },
   "id": "c6fd61c914bf5841"
  },
  {
   "cell_type": "code",
   "execution_count": 17,
   "outputs": [
    {
     "data": {
      "text/plain": "2"
     },
     "execution_count": 17,
     "metadata": {},
     "output_type": "execute_result"
    }
   ],
   "source": [
    "get_exp_of_day()"
   ],
   "metadata": {
    "collapsed": false,
    "ExecuteTime": {
     "end_time": "2023-09-18T14:38:57.650863521Z",
     "start_time": "2023-09-18T14:38:57.641671890Z"
    }
   },
   "id": "728b335385a24dff"
  },
  {
   "cell_type": "code",
   "execution_count": 89,
   "outputs": [],
   "source": [
    "# ask user if ok to transfer the files\n",
    "dialog = 'The following files will be transferred:\\n\\n'\n",
    "for card in card_id:\n",
    "    dialog += f'{card} has {len(card_id[card][\"files\"])} files:\\n'\n",
    "    for file in card_id[card]['files']:\n",
    "        dialog += f'\\t{file}\\n'\n",
    "    dialog += '\\n'\n",
    "dialog += 'Is this ok? (y/n): '\n",
    "ok = input(dialog)\n",
    "if ok.lower() == 'y':\n",
    "    transfer_approved = True\n",
    "    pass\n",
    "else:\n",
    "    transfer_approved = False\n",
    "    raise OSError('User aborted transfer')"
   ],
   "metadata": {
    "collapsed": false,
    "ExecuteTime": {
     "start_time": "2023-09-15T19:42:19.928699355Z"
    }
   },
   "id": "3c090e4c81f9364b"
  },
  {
   "cell_type": "code",
   "execution_count": 98,
   "outputs": [],
   "source": [
    "# ask user if ok to transfer the files\n",
    "def run_transfer():\n",
    "    dialog = 'The following files will be transferred:\\n\\n'\n",
    "    for card in card_id:\n",
    "        dialog += f'{card} has {len(card_id[card][\"files\"])} files:\\n'\n",
    "        for file in card_id[card]['files']:\n",
    "            dialog += f'\\t{file}\\n'\n",
    "        dialog += '\\n'\n",
    "    dialog += 'Is this ok? (y/n): '\n",
    "    ok = input(dialog)\n",
    "    if ok.lower() == 'y':\n",
    "        transfer_approved = True\n",
    "        pass\n",
    "    else:\n",
    "        transfer_approved = False\n",
    "        raise OSError('User aborted transfer')\n",
    "    \n",
    "    data_path = Path('/safestore/users/landry/SCRAP/data/conversations_unconstrained') / f'{today}_{get_exp_of_day()+1:03d}'\n",
    "    os.mkdir(data_path)\n",
    "    total_num_files = sum([len(card_id[card]['files']) for card in card_id])\n",
    "    filenum = 0\n",
    "    for card in card_id:\n",
    "        dest_path = data_path / card\n",
    "        os.mkdir(dest_path)\n",
    "        for file in card_id[card]['files']:\n",
    "            filenum += 1\n",
    "            print(f'Transferring file {filenum} of {total_num_files} files\\n')\n",
    "            print(f'Destination: {dest_path}\\n')\n",
    "            transfer_file(file, dest_path)"
   ],
   "metadata": {
    "collapsed": false,
    "ExecuteTime": {
     "end_time": "2023-09-15T20:00:12.210725467Z",
     "start_time": "2023-09-15T20:00:12.184691547Z"
    }
   },
   "id": "8ce22a17f0cf7508"
  },
  {
   "cell_type": "code",
   "execution_count": 100,
   "outputs": [
    {
     "name": "stdout",
     "output_type": "stream",
     "text": [
      "Transferring file 1 of 11 files\n",
      "\n",
      "Destination: /safestore/users/landry/SCRAP/data/conversations_unconstrained/2023-09-15_001/360cam\n"
     ]
    },
    {
     "name": "stderr",
     "output_type": "stream",
     "text": [
      " 20%|███████                              | Remaining: 00:35\n"
     ]
    },
    {
     "ename": "KeyboardInterrupt",
     "evalue": "",
     "output_type": "error",
     "traceback": [
      "\u001B[0;31m---------------------------------------------------------------------------\u001B[0m",
      "\u001B[0;31mKeyboardInterrupt\u001B[0m                         Traceback (most recent call last)",
      "Cell \u001B[0;32mIn[100], line 1\u001B[0m\n\u001B[0;32m----> 1\u001B[0m \u001B[43mrun_transfer\u001B[49m\u001B[43m(\u001B[49m\u001B[43m)\u001B[49m\n",
      "Cell \u001B[0;32mIn[98], line 31\u001B[0m, in \u001B[0;36mrun_transfer\u001B[0;34m()\u001B[0m\n\u001B[1;32m     29\u001B[0m \u001B[38;5;28mprint\u001B[39m(\u001B[38;5;124mf\u001B[39m\u001B[38;5;124m'\u001B[39m\u001B[38;5;124mTransferring file \u001B[39m\u001B[38;5;132;01m{\u001B[39;00mfilenum\u001B[38;5;132;01m}\u001B[39;00m\u001B[38;5;124m of \u001B[39m\u001B[38;5;132;01m{\u001B[39;00mtotal_num_files\u001B[38;5;132;01m}\u001B[39;00m\u001B[38;5;124m files\u001B[39m\u001B[38;5;130;01m\\n\u001B[39;00m\u001B[38;5;124m'\u001B[39m)\n\u001B[1;32m     30\u001B[0m \u001B[38;5;28mprint\u001B[39m(\u001B[38;5;124mf\u001B[39m\u001B[38;5;124m'\u001B[39m\u001B[38;5;124mDestination: \u001B[39m\u001B[38;5;132;01m{\u001B[39;00mdest_path\u001B[38;5;132;01m}\u001B[39;00m\u001B[38;5;130;01m\\n\u001B[39;00m\u001B[38;5;124m'\u001B[39m)\n\u001B[0;32m---> 31\u001B[0m \u001B[43mtransfer_file\u001B[49m\u001B[43m(\u001B[49m\u001B[43mfile\u001B[49m\u001B[43m,\u001B[49m\u001B[43m \u001B[49m\u001B[43mdest_path\u001B[49m\u001B[43m)\u001B[49m\n",
      "Cell \u001B[0;32mIn[74], line 9\u001B[0m, in \u001B[0;36mtransfer_file\u001B[0;34m(source, dest_path)\u001B[0m\n\u001B[1;32m      7\u001B[0m buffer \u001B[38;5;241m=\u001B[39m \u001B[38;5;28mbytearray\u001B[39m()\n\u001B[1;32m      8\u001B[0m \u001B[38;5;28;01mwhile\u001B[39;00m \u001B[38;5;28;01mTrue\u001B[39;00m:\n\u001B[0;32m----> 9\u001B[0m     buf \u001B[38;5;241m=\u001B[39m \u001B[43mf\u001B[49m\u001B[38;5;241;43m.\u001B[39;49m\u001B[43mread\u001B[49m\u001B[43m(\u001B[49m\u001B[38;5;241;43m8192\u001B[39;49m\u001B[43m)\u001B[49m\n\u001B[1;32m     10\u001B[0m     n\u001B[38;5;241m.\u001B[39mwrite(buf)\n\u001B[1;32m     11\u001B[0m     \u001B[38;5;28;01mif\u001B[39;00m \u001B[38;5;28mlen\u001B[39m(buf) \u001B[38;5;241m==\u001B[39m \u001B[38;5;241m0\u001B[39m:\n",
      "\u001B[0;31mKeyboardInterrupt\u001B[0m: "
     ]
    }
   ],
   "source": [
    "run_transfer()"
   ],
   "metadata": {
    "collapsed": false,
    "ExecuteTime": {
     "end_time": "2023-09-15T20:01:08.043179850Z",
     "start_time": "2023-09-15T20:00:48.392447209Z"
    }
   },
   "id": "e2882f18860dd79e"
  },
  {
   "cell_type": "code",
   "execution_count": null,
   "outputs": [],
   "source": [],
   "metadata": {
    "collapsed": false
   },
   "id": "1350ce66d898aaf0"
  }
 ],
 "metadata": {
  "kernelspec": {
   "display_name": "Python 3",
   "language": "python",
   "name": "python3"
  },
  "language_info": {
   "codemirror_mode": {
    "name": "ipython",
    "version": 2
   },
   "file_extension": ".py",
   "mimetype": "text/x-python",
   "name": "python",
   "nbconvert_exporter": "python",
   "pygments_lexer": "ipython2",
   "version": "2.7.6"
  }
 },
 "nbformat": 4,
 "nbformat_minor": 5
}
