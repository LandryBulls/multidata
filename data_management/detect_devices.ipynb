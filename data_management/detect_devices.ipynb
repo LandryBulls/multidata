{
 "cells": [
  {
   "cell_type": "code",
   "execution_count": 9,
   "id": "initial_id",
   "metadata": {
    "collapsed": true,
    "ExecuteTime": {
     "end_time": "2023-09-13T02:27:52.938334Z",
     "start_time": "2023-09-13T02:27:52.930460Z"
    }
   },
   "outputs": [],
   "source": [
    "import os\n",
    "from glob import glob\n",
    "from pathlib import Path\n",
    "import shutil\n",
    "import sys\n",
    "import time"
   ]
  },
  {
   "cell_type": "code",
   "execution_count": 11,
   "outputs": [],
   "source": [
    "date = time.strftime('%Y-%m-%d')"
   ],
   "metadata": {
    "collapsed": false,
    "ExecuteTime": {
     "end_time": "2023-09-13T02:28:01.494068Z",
     "start_time": "2023-09-13T02:28:01.483792Z"
    }
   },
   "id": "ebb5135bf423c5ef"
  },
  {
   "cell_type": "code",
   "execution_count": 6,
   "outputs": [],
   "source": [
    "def get_all_files(card_path):\n",
    "    all_files = []\n",
    "    for root, dirs, files in os.walk(card_path):\n",
    "        for file in files:\n",
    "            all_files.append(os.path.join(root, file))\n",
    "    return all_files"
   ],
   "metadata": {
    "collapsed": false,
    "ExecuteTime": {
     "end_time": "2023-09-13T02:14:33.316978Z",
     "start_time": "2023-09-13T02:14:33.306341Z"
    }
   },
   "id": "b71755bc897ab4dc"
  },
  {
   "cell_type": "code",
   "execution_count": 4,
   "outputs": [],
   "source": [
    "# get paths of SD cards connected\n",
    "if sys.platform == 'darwin':\n",
    "    connected_sd_cards = [Path(card) for card in glob('/Volumes/Untitled*/')]\n",
    "elif sys.platform == 'win32':\n",
    "    connected_sd_cards = [Path(card) for card in glob('E:/')]\n",
    "elif sys.platform == 'linux':\n",
    "    connected_sd_cards = [Path(card) for card in glob('/media/')]"
   ],
   "metadata": {
    "collapsed": false,
    "ExecuteTime": {
     "end_time": "2023-09-13T02:13:54.834794Z",
     "start_time": "2023-09-13T02:13:54.820547Z"
    }
   },
   "id": "ea08236c795a7e45"
  },
  {
   "cell_type": "code",
   "execution_count": 7,
   "outputs": [],
   "source": [
    "card_id = {}\n",
    "cam_id = 0\n",
    "for card in connected_sd_cards:\n",
    "    if any(['.360' in file for file in get_all_files(card)]):\n",
    "        card_id[card] = '360'\n",
    "    elif any(['.mp4' in file for file in get_all_files(card)]):\n",
    "        cam+=1\n",
    "        card_id[card] = f'cam{cam}'\n",
    "    elif any(['TRACK' in file for file in get_all_files(card)]):\n",
    "        card_id[card] = 'microphones'\n",
    "    else:\n",
    "        print(f'Unknown card: {card} contains the following files:')\n",
    "        print(get_all_files(card))"
   ],
   "metadata": {
    "collapsed": false,
    "ExecuteTime": {
     "end_time": "2023-09-13T02:24:55.358213Z",
     "start_time": "2023-09-13T02:24:55.348869Z"
    }
   },
   "id": "a6db93e30159d473"
  },
  {
   "cell_type": "code",
   "execution_count": 12,
   "outputs": [],
   "source": [
    "# func for getting the creation date of a file\n",
    "def get_creation_date(path_to_file):\n",
    "    return time.strftime('%Y-%m-%d', time.gmtime(os.path.getctime(path_to_file)))"
   ],
   "metadata": {
    "collapsed": false,
    "ExecuteTime": {
     "end_time": "2023-09-13T02:28:26.475592Z",
     "start_time": "2023-09-13T02:28:26.456538Z"
    }
   },
   "id": "e4ad4ab6996620b6"
  }
 ],
 "metadata": {
  "kernelspec": {
   "display_name": "Python 3",
   "language": "python",
   "name": "python3"
  },
  "language_info": {
   "codemirror_mode": {
    "name": "ipython",
    "version": 2
   },
   "file_extension": ".py",
   "mimetype": "text/x-python",
   "name": "python",
   "nbconvert_exporter": "python",
   "pygments_lexer": "ipython2",
   "version": "2.7.6"
  }
 },
 "nbformat": 4,
 "nbformat_minor": 5
}
