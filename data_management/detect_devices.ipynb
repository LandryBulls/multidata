{
 "cells": [
  {
   "cell_type": "code",
   "execution_count": 1,
   "id": "initial_id",
   "metadata": {
    "collapsed": true,
    "ExecuteTime": {
     "end_time": "2023-09-15T14:58:46.478635Z",
     "start_time": "2023-09-15T14:58:46.456845Z"
    }
   },
   "outputs": [],
   "source": [
    "import os\n",
    "from glob import glob\n",
    "from pathlib import Path\n",
    "import shutil\n",
    "import sys\n",
    "import time"
   ]
  },
  {
   "cell_type": "code",
   "execution_count": 11,
   "outputs": [],
   "source": [
    "today = time.strftime('%Y-%m-%d')"
   ],
   "metadata": {
    "collapsed": false,
    "ExecuteTime": {
     "end_time": "2023-09-13T02:28:01.494068Z",
     "start_time": "2023-09-13T02:28:01.483792Z"
    }
   },
   "id": "ebb5135bf423c5ef"
  },
  {
   "cell_type": "code",
   "execution_count": 6,
   "outputs": [],
   "source": [
    "def get_all_files(card_path):\n",
    "    all_files = []\n",
    "    for root, dirs, files in os.walk(card_path):\n",
    "        for file in files:\n",
    "            all_files.append(os.path.join(root, file))\n",
    "    return all_files"
   ],
   "metadata": {
    "collapsed": false,
    "ExecuteTime": {
     "end_time": "2023-09-13T02:14:33.316978Z",
     "start_time": "2023-09-13T02:14:33.306341Z"
    }
   },
   "id": "b71755bc897ab4dc"
  },
  {
   "cell_type": "code",
   "execution_count": 6,
   "outputs": [],
   "source": [
    "# get paths of SD cards connected\n",
    "if sys.platform == 'darwin':\n",
    "    connected_sd_cards = [Path(card) for card in glob('/Volumes/Untitled*/')]\n",
    "elif sys.platform == 'win32':\n",
    "    connected_sd_cards = [Path(card) for card in glob('E:/')]\n",
    "elif sys.platform == 'linux':\n",
    "    connected_sd_cards = [Path(card) for card in glob('/media/')]\n",
    "else:\n",
    "    # throw error if platform is unknown\n",
    "    raise OSError('Unknown platform')"
   ],
   "metadata": {
    "collapsed": false,
    "ExecuteTime": {
     "end_time": "2023-09-15T15:09:21.941985Z",
     "start_time": "2023-09-15T15:09:21.930727Z"
    }
   },
   "id": "ea08236c795a7e45"
  },
  {
   "cell_type": "code",
   "execution_count": 7,
   "outputs": [],
   "source": [
    "card_id = {}\n",
    "# card label and files to download\n",
    "data_incoming = {''}\n",
    "cam_id = 0\n",
    "for card in connected_sd_cards:\n",
    "    if any(['.360' in file for file in get_all_files(card)]):\n",
    "        files = [file for file in get_all_files(card) if '.360' in file]\n",
    "        card_id['360cam'] = {'card': card, 'files': files}\n",
    "    elif any(['.mp4' in file.lower() for file in get_all_files(card)]):\n",
    "        cam+=1\n",
    "        files = [file for file in get_all_files(card) if '.mp4' in file.lower()]\n",
    "        card_id[f'cam{cam}'] = {'card': card, 'files': files}\n",
    "    elif any(['TRACK' in file for file in get_all_files(card)]):\n",
    "        # TO DO: make sure audio files recorded on same date as video files\n",
    "        files = [file for file in get_all_files(card) if 'TRACK' in file]\n",
    "        card_id['microphones'] = {'card': card, 'files': files}\n",
    "    else:\n",
    "        print(f'Unknown card: {card} contains the following files:')\n",
    "        print(get_all_files(card))"
   ],
   "metadata": {
    "collapsed": false,
    "ExecuteTime": {
     "end_time": "2023-09-15T15:09:23.458049Z",
     "start_time": "2023-09-15T15:09:23.438007Z"
    }
   },
   "id": "a6db93e30159d473"
  },
  {
   "cell_type": "code",
   "execution_count": null,
   "outputs": [],
   "source": [
    "assert len(card_id) == 4, 'Not all cards are connected'"
   ],
   "metadata": {
    "collapsed": false
   },
   "id": "5971a482f0a28f3c"
  },
  {
   "cell_type": "code",
   "execution_count": 8,
   "outputs": [],
   "source": [
    "# func for getting the creation date of a file\n",
    "def get_creation_date(path_to_file):\n",
    "    return time.strftime('%Y-%m-%d', time.gmtime(os.path.getctime(path_to_file)))"
   ],
   "metadata": {
    "collapsed": false,
    "ExecuteTime": {
     "end_time": "2023-09-15T15:10:03.007240Z",
     "start_time": "2023-09-15T15:10:02.991025Z"
    }
   },
   "id": "e4ad4ab6996620b6"
  },
  {
   "cell_type": "code",
   "execution_count": 9,
   "outputs": [],
   "source": [
    "# make sure all files have the same creation date and print the files for each unique date detected\n",
    "for card in card_id:\n",
    "    dates = []\n",
    "    for file in card_id[card]['files']:\n",
    "        dates.append(get_creation_date(file))\n",
    "    dates = list(set(dates))\n",
    "    assert len(dates) == 1, f'Files on {card} were not all created on the same date'\n",
    "    print(f'Files on {card} were created on {dates[0]}')"
   ],
   "metadata": {
    "collapsed": false,
    "ExecuteTime": {
     "end_time": "2023-09-15T15:11:11.303792Z",
     "start_time": "2023-09-15T15:11:11.274059Z"
    }
   },
   "id": "94217a150039f31f"
  },
  {
   "cell_type": "code",
   "execution_count": 14,
   "outputs": [
    {
     "name": "stdout",
     "output_type": "stream",
     "text": [
      "The following files will be transferred:\n"
     ]
    }
   ],
   "source": [
    "# ask user if ok to transfer the files\n",
    "print('The following files will be transferred:')\n",
    "for card in card_id:\n",
    "    files_on_card = [os.path.basename(file) for file in card_id[card]['files']]\n",
    "    print(f'{card}: {files_on_card}\\n')\n",
    "ok = input('Transfer files? (y/n): ')\n",
    "if ok.lower() == 'y':\n",
    "    pass\n",
    "else:\n",
    "    raise OSError('User aborted transfer')"
   ],
   "metadata": {
    "collapsed": false,
    "ExecuteTime": {
     "end_time": "2023-09-15T15:15:30.158596Z",
     "start_time": "2023-09-15T15:15:28.371949Z"
    }
   },
   "id": "3c090e4c81f9364b"
  },
  {
   "cell_type": "code",
   "execution_count": 12,
   "outputs": [
    {
     "data": {
      "text/plain": "''"
     },
     "execution_count": 12,
     "metadata": {},
     "output_type": "execute_result"
    }
   ],
   "source": [],
   "metadata": {
    "collapsed": false,
    "ExecuteTime": {
     "end_time": "2023-09-15T15:14:58.880026Z",
     "start_time": "2023-09-15T15:14:58.853225Z"
    }
   },
   "id": "8ce22a17f0cf7508"
  },
  {
   "cell_type": "code",
   "execution_count": null,
   "outputs": [],
   "source": [],
   "metadata": {
    "collapsed": false
   },
   "id": "ffb53c2187ec0700"
  }
 ],
 "metadata": {
  "kernelspec": {
   "display_name": "Python 3",
   "language": "python",
   "name": "python3"
  },
  "language_info": {
   "codemirror_mode": {
    "name": "ipython",
    "version": 2
   },
   "file_extension": ".py",
   "mimetype": "text/x-python",
   "name": "python",
   "nbconvert_exporter": "python",
   "pygments_lexer": "ipython2",
   "version": "2.7.6"
  }
 },
 "nbformat": 4,
 "nbformat_minor": 5
}
