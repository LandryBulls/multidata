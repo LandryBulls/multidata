{
 "cells": [
  {
   "cell_type": "code",
   "execution_count": 8,
   "id": "initial_id",
   "metadata": {
    "collapsed": true,
    "ExecuteTime": {
     "end_time": "2023-09-10T01:23:09.560098Z",
     "start_time": "2023-09-10T01:23:09.553041Z"
    }
   },
   "outputs": [],
   "source": [
    "from pathlib import Path\n",
    "import os\n",
    "import subprocess"
   ]
  },
  {
   "cell_type": "code",
   "execution_count": 12,
   "outputs": [],
   "source": [
    "# Set the path to the data folder\n",
    "sessionpath = Path('/Users/f004swn/Documents/SCRAP/data/group_tests/session2')\n",
    "dir360 = sessionpath / '360cam'\n",
    "files = [i for i in os.listdir(dir360) if i.endswith('.360')]"
   ],
   "metadata": {
    "collapsed": false,
    "ExecuteTime": {
     "end_time": "2023-09-10T01:24:10.127404Z",
     "start_time": "2023-09-10T01:24:10.118577Z"
    }
   },
   "id": "c8895881b6b8222f"
  },
  {
   "cell_type": "code",
   "execution_count": 43,
   "outputs": [],
   "source": [
    "def convert_to_equirectangular(path360):\n",
    "    \"\"\"\n",
    "    Thanks to https://www.trekview.org/blog/using-ffmpeg-process-gopro-max-360/\n",
    "    \"\"\"\n",
    "    base = os.path.basename(path360)[:-4]\n",
    "    \n",
    "    conda_activate = \"source activate 360_convert\"\n",
    "    ffmpeg_command = f\"ffmpeg -hwaccel opencl -v verbose -filter_complex '[0:0]format=yuv420p,hwupload[a] , [0:5]format=yuv420p,hwupload[b], [a][b]gopromax_opencl, hwdownload,format=yuv420p' -i {path360} -c:v libx264 -pix_fmt yuv420p -map_metadata 0 -map 0:a -map 0:3 {base}-stitched.mp4\"\n",
    "    conda_reactivate = \"source activate multidata\"\n",
    "    command = f\"{conda_activate} && {ffmpeg_command} && {conda_reactivate}\"\n",
    "    #subprocess.call(command, shell=True)\n",
    "    print(command)\n",
    "\n",
    "# The above function works by ‘stitching’ the 360 video together using the GoPro Max OpenCL plugin."
   ],
   "metadata": {
    "collapsed": false,
    "ExecuteTime": {
     "end_time": "2023-09-10T02:33:11.277064Z",
     "start_time": "2023-09-10T02:33:11.267458Z"
    }
   },
   "id": "4126dff3389c3ce4"
  },
  {
   "cell_type": "code",
   "execution_count": 44,
   "outputs": [
    {
     "name": "stdout",
     "output_type": "stream",
     "text": [
      "source activate 360_convert && ffmpeg -hwaccel opencl -v verbose -filter_complex '[0:0]format=yuv420p,hwupload[a] , [0:5]format=yuv420p,hwupload[b], [a][b]gopromax_opencl, hwdownload,format=yuv420p' -i /Users/f004swn/Documents/SCRAP/data/group_tests/session2/360cam/GS020008.360 -c:v libx264 -pix_fmt yuv420p -map_metadata 0 -map 0:a -map 0:3 GS020008-stitched.mp4 && source activate multidata\n"
     ]
    }
   ],
   "source": [
    "convert_to_equirectangular(dir360 / files[0])"
   ],
   "metadata": {
    "collapsed": false,
    "ExecuteTime": {
     "end_time": "2023-09-10T02:33:12.252105Z",
     "start_time": "2023-09-10T02:33:12.243713Z"
    }
   },
   "id": "aa56a293ee2a58db"
  },
  {
   "cell_type": "code",
   "execution_count": null,
   "outputs": [],
   "source": [],
   "metadata": {
    "collapsed": false
   },
   "id": "ef447381e0b33ed"
  }
 ],
 "metadata": {
  "kernelspec": {
   "display_name": "Python 3",
   "language": "python",
   "name": "python3"
  },
  "language_info": {
   "codemirror_mode": {
    "name": "ipython",
    "version": 2
   },
   "file_extension": ".py",
   "mimetype": "text/x-python",
   "name": "python",
   "nbconvert_exporter": "python",
   "pygments_lexer": "ipython2",
   "version": "2.7.6"
  }
 },
 "nbformat": 4,
 "nbformat_minor": 5
}
